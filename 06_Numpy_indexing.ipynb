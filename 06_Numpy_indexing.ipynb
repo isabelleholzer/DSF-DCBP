{
  "cells": [
    {
      "cell_type": "markdown",
      "metadata": {
        "id": "view-in-github",
        "colab_type": "text"
      },
      "source": [
        "<a href=\"https://colab.research.google.com/github/isabelleholzer/DSF-DCBP/blob/main/06_Numpy_indexing.ipynb\" target=\"_parent\"><img src=\"https://colab.research.google.com/assets/colab-badge.svg\" alt=\"Open In Colab\"/></a>"
      ]
    },
    {
      "cell_type": "markdown",
      "metadata": {
        "id": "ru7mNBPPCjqV"
      },
      "source": [
        "# 6. Numpy indexing\n",
        "\n",
        "Often we need to extract some information from a Pandas DataFrame. Here also, Pandas inherits many of the approaches used in Numpy. Therefore we start here by very briefly showing how to proceed with plain arrays before looking at the more complex DataFrames.\n",
        "\n",
        "Note that Numpy indexing is very powerful and that we cover here only a tiny fraction of this topic. To learn more you can for example the [Numpy reference](https://numpy.org/doc/stable/reference/arrays.indexing.html#indexing)."
      ]
    },
    {
      "cell_type": "code",
      "execution_count": null,
      "metadata": {
        "id": "ztwtLIbJDpYx"
      },
      "outputs": [],
      "source": [
        "# import numpy as np"
      ]
    },
    {
      "cell_type": "code",
      "source": [
        "import numpy as np"
      ],
      "metadata": {
        "id": "hrPL2kPuYFbM"
      },
      "execution_count": 3,
      "outputs": []
    },
    {
      "cell_type": "markdown",
      "metadata": {
        "id": "3tMa2-cXDqaA"
      },
      "source": [
        "We first create an array:"
      ]
    },
    {
      "cell_type": "code",
      "execution_count": null,
      "metadata": {
        "id": "ZsaO3RdIDuMa"
      },
      "outputs": [],
      "source": [
        "# my_array = np.random.normal(size=10)\n",
        "# my_array"
      ]
    },
    {
      "cell_type": "code",
      "source": [
        "my_array = np.random.normal(size=10)\n",
        "my_array"
      ],
      "metadata": {
        "colab": {
          "base_uri": "https://localhost:8080/"
        },
        "id": "U9BjeTwYYYrd",
        "outputId": "4de565bb-e194-4466-b92b-0f13bc9359d9"
      },
      "execution_count": 4,
      "outputs": [
        {
          "output_type": "execute_result",
          "data": {
            "text/plain": [
              "array([ 0.04498933, -1.33473002,  0.67949856,  1.29400567, -0.06094504,\n",
              "       -0.39743032, -0.10951625,  0.72211645, -0.83017025, -1.04943722])"
            ]
          },
          "metadata": {},
          "execution_count": 4
        }
      ]
    },
    {
      "cell_type": "markdown",
      "metadata": {
        "id": "y5-My76iDyCb"
      },
      "source": [
        "## Extracting and setting elements\n",
        "\n",
        "The standard way to extract information from an array is to used the square parenthesis (bracket) notation. If we want for example to extract the second element of the array we write:\n",
        "\n"
      ]
    },
    {
      "cell_type": "code",
      "execution_count": null,
      "metadata": {
        "id": "9uxQWL_jEAXH"
      },
      "outputs": [],
      "source": [
        "# my_array[1]"
      ]
    },
    {
      "cell_type": "code",
      "source": [
        "my_array[1]"
      ],
      "metadata": {
        "colab": {
          "base_uri": "https://localhost:8080/"
        },
        "id": "msk8A9riYZI4",
        "outputId": "347f6beb-e113-4993-c502-e141f9e0fef3"
      },
      "execution_count": 4,
      "outputs": [
        {
          "output_type": "execute_result",
          "data": {
            "text/plain": [
              "-0.9746291188532059"
            ]
          },
          "metadata": {},
          "execution_count": 4
        }
      ]
    },
    {
      "cell_type": "markdown",
      "metadata": {
        "id": "IOoZtvSiEDw8"
      },
      "source": [
        "Remember that **we start counting from 0** in Python, which is why the *second* element has index 1.\n",
        "\n",
        "We can extend the notation and extract a range of elements by using the ```from_index:to_index (excluded)``` notation. Here ```excluded``` means that the **last index** specified is **not included**. For example if we want to recover elements with indices from 1 to 3 we write:"
      ]
    },
    {
      "cell_type": "code",
      "execution_count": null,
      "metadata": {
        "id": "4tCNuBLpELzd"
      },
      "outputs": [],
      "source": [
        "# my_array[1:4]"
      ]
    },
    {
      "cell_type": "code",
      "source": [
        "my_array[1:4]"
      ],
      "metadata": {
        "colab": {
          "base_uri": "https://localhost:8080/"
        },
        "id": "q83HcDTAYZ6o",
        "outputId": "713a4c7a-6404-4be0-ca9b-a0c6cf76cf31"
      },
      "execution_count": 5,
      "outputs": [
        {
          "output_type": "execute_result",
          "data": {
            "text/plain": [
              "array([-0.97462912,  0.49232798, -1.48982729])"
            ]
          },
          "metadata": {},
          "execution_count": 5
        }
      ]
    },
    {
      "cell_type": "markdown",
      "metadata": {
        "id": "YXCwO49SEvmh"
      },
      "source": [
        "We can also set values in the array in the same maner. For example let's set the above elements to 10:"
      ]
    },
    {
      "cell_type": "code",
      "execution_count": null,
      "metadata": {
        "id": "R-cldFxDE-3o"
      },
      "outputs": [],
      "source": [
        "# my_array[1:4] = 10"
      ]
    },
    {
      "cell_type": "code",
      "execution_count": null,
      "metadata": {
        "id": "YzyfJV6wFFSa"
      },
      "outputs": [],
      "source": [
        "# my_array"
      ]
    },
    {
      "cell_type": "code",
      "source": [
        "my_array[1:4] = 10\n",
        "my_array"
      ],
      "metadata": {
        "colab": {
          "base_uri": "https://localhost:8080/"
        },
        "id": "6MzPaYAuYas4",
        "outputId": "bcbab32a-eb37-4055-f609-9e7c7d11e676"
      },
      "execution_count": 6,
      "outputs": [
        {
          "output_type": "execute_result",
          "data": {
            "text/plain": [
              "array([ 0.23026288, 10.        , 10.        , 10.        , -1.59177449,\n",
              "        1.74501792, -0.20173265,  1.19601533, -0.11789152,  0.92612836])"
            ]
          },
          "metadata": {},
          "execution_count": 6
        }
      ]
    },
    {
      "cell_type": "code",
      "source": [
        ""
      ],
      "metadata": {
        "id": "bsDJ_9eCYa0b"
      },
      "execution_count": null,
      "outputs": []
    },
    {
      "cell_type": "markdown",
      "metadata": {
        "id": "wTC1zc6Kcue_"
      },
      "source": [
        "Note that you can sometimes simplify the notation. For example if you want to extract all elements from the 4th one **to the last one**, you don't have to specify the last index, you can simply replace it by ```:```:\n"
      ]
    },
    {
      "cell_type": "code",
      "execution_count": null,
      "metadata": {
        "id": "3Wh8TLBOdS1f"
      },
      "outputs": [],
      "source": [
        "# my_array[4::]"
      ]
    },
    {
      "cell_type": "code",
      "source": [
        "my_array[4::]"
      ],
      "metadata": {
        "colab": {
          "base_uri": "https://localhost:8080/"
        },
        "id": "-8P5bh1JYbuQ",
        "outputId": "29b79cc1-c779-4bc2-fc71-1cd5cf47bd48"
      },
      "execution_count": 9,
      "outputs": [
        {
          "output_type": "execute_result",
          "data": {
            "text/plain": [
              "array([-1.59177449,  1.74501792, -0.20173265,  1.19601533, -0.11789152,\n",
              "        0.92612836])"
            ]
          },
          "metadata": {},
          "execution_count": 9
        }
      ]
    },
    {
      "cell_type": "markdown",
      "metadata": {
        "id": "LkdwCr_Ydcdm"
      },
      "source": [
        "## Higher dimensions\n",
        "\n",
        "We have seen before that we can create arrays with more than one dimension (think e.g. of the pixels of an image). For example:"
      ]
    },
    {
      "cell_type": "code",
      "execution_count": null,
      "metadata": {
        "id": "wnDoPx6KdnVr"
      },
      "outputs": [],
      "source": [
        "# array2D = np.random.normal(size=(3,5))\n",
        "# array2D"
      ]
    },
    {
      "cell_type": "code",
      "source": [
        "array2D = np.random.normal(size=(3,5))\n",
        "array2D"
      ],
      "metadata": {
        "colab": {
          "base_uri": "https://localhost:8080/"
        },
        "id": "eW4G8Ig2YcBR",
        "outputId": "bd4af04f-f749-43de-a85d-60adaee12f72"
      },
      "execution_count": 10,
      "outputs": [
        {
          "output_type": "execute_result",
          "data": {
            "text/plain": [
              "array([[ 1.21218777, -0.39642799, -0.26899846, -0.20304138,  1.55828022],\n",
              "       [-0.21889156,  0.28686565, -0.37104811,  0.5598911 , -1.09371968],\n",
              "       [ 0.12885202,  0.21208847, -0.59348878, -0.36941494,  0.08563047]])"
            ]
          },
          "metadata": {},
          "execution_count": 10
        }
      ]
    },
    {
      "cell_type": "markdown",
      "metadata": {
        "id": "fvh9-Y1UdsiZ"
      },
      "source": [
        "The indexing system works in the same way here. We just have to specify now for each dimension which rows/columns we want to extract with ```my_array[start_row:end_row, start_column:end_column]```:"
      ]
    },
    {
      "cell_type": "code",
      "execution_count": null,
      "metadata": {
        "id": "PwEp-hwKeBXy"
      },
      "outputs": [],
      "source": [
        "# array2D[1:3, 0:2]"
      ]
    },
    {
      "cell_type": "code",
      "source": [
        "array2D[1:3, 0:2]"
      ],
      "metadata": {
        "colab": {
          "base_uri": "https://localhost:8080/"
        },
        "id": "XFnsR_D0YchT",
        "outputId": "1097cb52-df8c-4515-cd1b-bff006ec5805"
      },
      "execution_count": 11,
      "outputs": [
        {
          "output_type": "execute_result",
          "data": {
            "text/plain": [
              "array([[-0.21889156,  0.28686565],\n",
              "       [ 0.12885202,  0.21208847]])"
            ]
          },
          "metadata": {},
          "execution_count": 11
        }
      ]
    },
    {
      "cell_type": "markdown",
      "metadata": {
        "id": "Il56KE3VeIaB"
      },
      "source": [
        "Here again, we can simplify the notation. If we want to select a few rows but **want to keep all columns**, we can again use the ```:``` notation like this:"
      ]
    },
    {
      "cell_type": "code",
      "execution_count": null,
      "metadata": {
        "id": "2SnaezpQeTGq"
      },
      "outputs": [],
      "source": [
        "# array2D[1:3, :]"
      ]
    },
    {
      "cell_type": "code",
      "source": [
        "array2D[1:3, :]"
      ],
      "metadata": {
        "colab": {
          "base_uri": "https://localhost:8080/"
        },
        "id": "Cz5jGMFXYdHU",
        "outputId": "8ebc6a5d-b061-4fbc-bd54-b73c9aeca033"
      },
      "execution_count": 12,
      "outputs": [
        {
          "output_type": "execute_result",
          "data": {
            "text/plain": [
              "array([[-0.21889156,  0.28686565, -0.37104811,  0.5598911 , -1.09371968],\n",
              "       [ 0.12885202,  0.21208847, -0.59348878, -0.36941494,  0.08563047]])"
            ]
          },
          "metadata": {},
          "execution_count": 12
        }
      ]
    },
    {
      "cell_type": "markdown",
      "metadata": {
        "id": "FsqskNXsFGTG"
      },
      "source": [
        "## Working with sub-parts\n",
        "\n",
        "Using indexing, we can also create a smaller array that we want to work on specifically. For example let's say we are only interested in the 6th to 8th element. We can **extract** it and **asign** it to a new array:"
      ]
    },
    {
      "cell_type": "code",
      "execution_count": null,
      "metadata": {
        "id": "vtuQhL9EFt08"
      },
      "outputs": [],
      "source": [
        "# sub_array = my_array[7:10]"
      ]
    },
    {
      "cell_type": "code",
      "source": [
        "sub_array = my_array[7:10]"
      ],
      "metadata": {
        "id": "DrQZxVuCYeZm"
      },
      "execution_count": 5,
      "outputs": []
    },
    {
      "cell_type": "code",
      "execution_count": null,
      "metadata": {
        "id": "Wa9qPa0nFzUW"
      },
      "outputs": [],
      "source": [
        "# my_array"
      ]
    },
    {
      "cell_type": "code",
      "source": [
        "my_array"
      ],
      "metadata": {
        "colab": {
          "base_uri": "https://localhost:8080/"
        },
        "id": "b5UWO1wDYeoc",
        "outputId": "f5321822-0fce-4360-f43e-f82e0f250812"
      },
      "execution_count": 6,
      "outputs": [
        {
          "output_type": "execute_result",
          "data": {
            "text/plain": [
              "array([ 0.04498933, -1.33473002,  0.67949856,  1.29400567, -0.06094504,\n",
              "       -0.39743032, -0.10951625,  0.72211645, -0.83017025, -1.04943722])"
            ]
          },
          "metadata": {},
          "execution_count": 6
        }
      ]
    },
    {
      "cell_type": "code",
      "execution_count": null,
      "metadata": {
        "id": "vInkaepAF0zc"
      },
      "outputs": [],
      "source": [
        "# sub_array"
      ]
    },
    {
      "cell_type": "code",
      "source": [
        "sub_array"
      ],
      "metadata": {
        "colab": {
          "base_uri": "https://localhost:8080/"
        },
        "id": "pnYIRWsFYe1g",
        "outputId": "a565b457-48f5-498d-8d86-c45a868a6ca3"
      },
      "execution_count": 7,
      "outputs": [
        {
          "output_type": "execute_result",
          "data": {
            "text/plain": [
              "array([ 0.72211645, -0.83017025, -1.04943722])"
            ]
          },
          "metadata": {},
          "execution_count": 7
        }
      ]
    },
    {
      "cell_type": "markdown",
      "metadata": {
        "id": "0PjKXuSYF1iX"
      },
      "source": [
        "Let's now modify an element of this subarray:"
      ]
    },
    {
      "cell_type": "code",
      "execution_count": null,
      "metadata": {
        "id": "-cTrdqfMF_Em"
      },
      "outputs": [],
      "source": [
        "# sub_array[0] = 100"
      ]
    },
    {
      "cell_type": "code",
      "source": [
        "sub_array[0] = 100"
      ],
      "metadata": {
        "id": "6xBTjjUmYfgL"
      },
      "execution_count": 8,
      "outputs": []
    },
    {
      "cell_type": "markdown",
      "metadata": {
        "id": "5BSrHqHWGCh5"
      },
      "source": [
        "Let's check that ```sub_array``` has indeed changed:"
      ]
    },
    {
      "cell_type": "code",
      "execution_count": null,
      "metadata": {
        "id": "lF7FFdYtGDKa"
      },
      "outputs": [],
      "source": [
        "# sub_array"
      ]
    },
    {
      "cell_type": "code",
      "source": [
        "sub_array"
      ],
      "metadata": {
        "colab": {
          "base_uri": "https://localhost:8080/"
        },
        "id": "znYy70LTYf9m",
        "outputId": "eb62e7c3-83d4-4445-fbdc-cb53af6d7f8d"
      },
      "execution_count": 9,
      "outputs": [
        {
          "output_type": "execute_result",
          "data": {
            "text/plain": [
              "array([100.        ,  -0.83017025,  -1.04943722])"
            ]
          },
          "metadata": {},
          "execution_count": 9
        }
      ]
    },
    {
      "cell_type": "markdown",
      "metadata": {
        "id": "BQOPc1caGKOh"
      },
      "source": [
        "Let's now also have a look at the original array:"
      ]
    },
    {
      "cell_type": "code",
      "execution_count": null,
      "metadata": {
        "id": "ZYZMwqPAGN8q"
      },
      "outputs": [],
      "source": [
        "# my_array"
      ]
    },
    {
      "cell_type": "code",
      "source": [
        "my_array"
      ],
      "metadata": {
        "colab": {
          "base_uri": "https://localhost:8080/"
        },
        "id": "YuGDlURwYhQK",
        "outputId": "91496210-745a-4c21-9033-4b27917e7fb2"
      },
      "execution_count": 10,
      "outputs": [
        {
          "output_type": "execute_result",
          "data": {
            "text/plain": [
              "array([ 4.49893252e-02, -1.33473002e+00,  6.79498556e-01,  1.29400567e+00,\n",
              "       -6.09450395e-02, -3.97430321e-01, -1.09516252e-01,  1.00000000e+02,\n",
              "       -8.30170255e-01, -1.04943722e+00])"
            ]
          },
          "metadata": {},
          "execution_count": 10
        }
      ]
    },
    {
      "cell_type": "markdown",
      "metadata": {
        "id": "kEN5DCn4G1f5"
      },
      "source": [
        "**The value in the original array has changed too!**. The reason is that the slicing of the array **does not create an independent sub-array**. It is still linked to the original one. Depending on the types of modification, you might or might not encounter this problem. To be on the safe side, explicitely create a **copy** when creating a sub-array. Like that it will be independent from the original one: "
      ]
    },
    {
      "cell_type": "code",
      "execution_count": null,
      "metadata": {
        "id": "6P_wV4hhHtnv"
      },
      "outputs": [],
      "source": [
        "# sub_array = my_array[7:10].copy()\n",
        "# sub_array[0] = 200"
      ]
    },
    {
      "cell_type": "code",
      "source": [
        "sub_array = my_array[7:10].copy()"
      ],
      "metadata": {
        "id": "q2-CSL_lYiBo"
      },
      "execution_count": 11,
      "outputs": []
    },
    {
      "cell_type": "code",
      "execution_count": null,
      "metadata": {
        "id": "wG92XXlvHzFM"
      },
      "outputs": [],
      "source": [
        "# sub_array"
      ]
    },
    {
      "cell_type": "code",
      "source": [
        "sub_array"
      ],
      "metadata": {
        "colab": {
          "base_uri": "https://localhost:8080/"
        },
        "id": "K5hwUo7lYiOp",
        "outputId": "39f6b116-24a1-47cb-c1c6-adcd87a34744"
      },
      "execution_count": 12,
      "outputs": [
        {
          "output_type": "execute_result",
          "data": {
            "text/plain": [
              "array([100.        ,  -0.83017025,  -1.04943722])"
            ]
          },
          "metadata": {},
          "execution_count": 12
        }
      ]
    },
    {
      "cell_type": "code",
      "execution_count": null,
      "metadata": {
        "id": "Z5-I7hv-H1Ec"
      },
      "outputs": [],
      "source": [
        "# my_array"
      ]
    },
    {
      "cell_type": "code",
      "source": [
        "my_array"
      ],
      "metadata": {
        "colab": {
          "base_uri": "https://localhost:8080/"
        },
        "id": "f2VYvPD4YiaX",
        "outputId": "8bd00dd9-32aa-4d08-83f5-61e5aa7c266b"
      },
      "execution_count": 13,
      "outputs": [
        {
          "output_type": "execute_result",
          "data": {
            "text/plain": [
              "array([ 4.49893252e-02, -1.33473002e+00,  6.79498556e-01,  1.29400567e+00,\n",
              "       -6.09450395e-02, -3.97430321e-01, -1.09516252e-01,  1.00000000e+02,\n",
              "       -8.30170255e-01, -1.04943722e+00])"
            ]
          },
          "metadata": {},
          "execution_count": 13
        }
      ]
    },
    {
      "cell_type": "markdown",
      "metadata": {
        "id": "TFHwK8F1H226"
      },
      "source": [
        "## Boolean indexing\n",
        "\n",
        "Instead of using numerical indices to extract values from the array, we can also select them by some criteria. Let's create a new random array:"
      ]
    },
    {
      "cell_type": "code",
      "execution_count": null,
      "metadata": {
        "id": "ctxI87WvI1Fo"
      },
      "outputs": [],
      "source": [
        "# my_array2 = np.random.normal(size=10)\n",
        "# my_array2"
      ]
    },
    {
      "cell_type": "code",
      "source": [
        "my_array2 = np.random.normal(size=10)\n",
        "my_array2"
      ],
      "metadata": {
        "colab": {
          "base_uri": "https://localhost:8080/"
        },
        "id": "ib3HSaxXYjQS",
        "outputId": "32fc4c04-88f3-45c1-b7a7-410249797e45"
      },
      "execution_count": 15,
      "outputs": [
        {
          "output_type": "execute_result",
          "data": {
            "text/plain": [
              "array([ 0.3445232 , -0.54194018, -0.44229066, -0.79967722,  1.66134424,\n",
              "        0.08875857,  1.21282596, -0.48077017,  0.72371333,  0.94393423])"
            ]
          },
          "metadata": {},
          "execution_count": 15
        }
      ]
    },
    {
      "cell_type": "markdown",
      "metadata": {
        "id": "4VXv0N-fI3E_"
      },
      "source": [
        "How to proceed now if we for example only want to recover the elements that are larger than 0 ?\n",
        "\n",
        "Let's try to see what happens when we just write it down as we would in regular mathemetics:"
      ]
    },
    {
      "cell_type": "code",
      "execution_count": null,
      "metadata": {
        "id": "u6H3C4dYJC-L"
      },
      "outputs": [],
      "source": [
        "# my_array2 > 0"
      ]
    },
    {
      "cell_type": "code",
      "source": [
        "my_array2 > 0"
      ],
      "metadata": {
        "colab": {
          "base_uri": "https://localhost:8080/"
        },
        "id": "LpvIfVkJYkpF",
        "outputId": "4189e1ef-52f0-4fc6-c9d5-e7e59e006424"
      },
      "execution_count": 16,
      "outputs": [
        {
          "output_type": "execute_result",
          "data": {
            "text/plain": [
              "array([ True, False, False, False,  True,  True,  True, False,  True,\n",
              "        True])"
            ]
          },
          "metadata": {},
          "execution_count": 16
        }
      ]
    },
    {
      "cell_type": "markdown",
      "metadata": {
        "id": "NtLOoe6gJETg"
      },
      "source": [
        "We see that the output is again an array, but instead of being filled with numbers, it contains only ```False``` and ```True```. Those values also exist in plain Python and are called booleans. For example:"
      ]
    },
    {
      "cell_type": "code",
      "execution_count": null,
      "metadata": {
        "id": "QpUEST9aJSu_"
      },
      "outputs": [],
      "source": [
        "# a = 3\n",
        "# a > 10"
      ]
    },
    {
      "cell_type": "code",
      "source": [
        "a = 3\n",
        "a > 10"
      ],
      "metadata": {
        "colab": {
          "base_uri": "https://localhost:8080/"
        },
        "id": "aPqe6qCvYlTi",
        "outputId": "237a95d0-b04b-4335-bf29-605d9377453e"
      },
      "execution_count": 17,
      "outputs": [
        {
          "output_type": "execute_result",
          "data": {
            "text/plain": [
              "False"
            ]
          },
          "metadata": {},
          "execution_count": 17
        }
      ]
    },
    {
      "cell_type": "markdown",
      "metadata": {
        "id": "DaMRX9Ohn8RS"
      },
      "source": [
        "We can now create an actual boolean array:"
      ]
    },
    {
      "cell_type": "code",
      "execution_count": null,
      "metadata": {
        "id": "YE__BOshn_7o"
      },
      "outputs": [],
      "source": [
        "# bool_array = my_array2 > 0\n",
        "# # bool_array"
      ]
    },
    {
      "cell_type": "code",
      "source": [
        "bool_array = my_array2 > 0\n",
        "bool_array"
      ],
      "metadata": {
        "colab": {
          "base_uri": "https://localhost:8080/"
        },
        "id": "cVE5XOs2Ylz0",
        "outputId": "4d155ee7-22c5-43e5-de3f-1cd2b878159e"
      },
      "execution_count": 18,
      "outputs": [
        {
          "output_type": "execute_result",
          "data": {
            "text/plain": [
              "array([ True, False, False, False,  True,  True,  True, False,  True,\n",
              "        True])"
            ]
          },
          "metadata": {},
          "execution_count": 18
        }
      ]
    },
    {
      "cell_type": "markdown",
      "metadata": {
        "id": "IzUBMbwKJ9nn"
      },
      "source": [
        "We can now use this **boolean array** ```bool_array``` to extract values from any array of the same size. Imagine that you superpose ```bool_array``` to another array ```value_array``` and only select those values in ```value_array``` which are ```True``` in ```bool_array```. Naturally we can do this with the original array itself. Instead of passing and index ```my_array[i]``` we pass the entire ```bool_array```:"
      ]
    },
    {
      "cell_type": "code",
      "execution_count": null,
      "metadata": {
        "id": "RmxTMOrXhFR4"
      },
      "outputs": [],
      "source": [
        "# from IPython.display import Image\n",
        "# Image(url='https://github.com/guiwitz/ISDAwPython_day2/raw/master/images/logical_indexing.jpeg',width=700)"
      ]
    },
    {
      "cell_type": "code",
      "source": [
        "from IPython.display import Image\n",
        "Image(url='https://github.com/guiwitz/ISDAwPython_day2/raw/master/images/logical_indexing.jpeg', width=700)"
      ],
      "metadata": {
        "colab": {
          "base_uri": "https://localhost:8080/",
          "height": 516
        },
        "id": "RyrVV6OwYmfl",
        "outputId": "769b1c0c-12fd-4f3e-8ad7-0e95e915dde1"
      },
      "execution_count": 20,
      "outputs": [
        {
          "output_type": "execute_result",
          "data": {
            "text/plain": [
              "<IPython.core.display.Image object>"
            ],
            "text/html": [
              "<img src=\"https://github.com/guiwitz/ISDAwPython_day2/raw/master/images/logical_indexing.jpeg\" width=\"700\"/>"
            ]
          },
          "metadata": {},
          "execution_count": 20
        }
      ]
    },
    {
      "cell_type": "code",
      "execution_count": null,
      "metadata": {
        "id": "QWd_e2UgnjLK"
      },
      "outputs": [],
      "source": [
        "# my_array2[bool_array] "
      ]
    },
    {
      "cell_type": "code",
      "source": [
        "my_array2[bool_array]"
      ],
      "metadata": {
        "colab": {
          "base_uri": "https://localhost:8080/"
        },
        "id": "mevl_-ljYmtY",
        "outputId": "b73becc9-048d-4728-a136-8fe548c057a2"
      },
      "execution_count": 21,
      "outputs": [
        {
          "output_type": "execute_result",
          "data": {
            "text/plain": [
              "array([0.3445232 , 1.66134424, 0.08875857, 1.21282596, 0.72371333,\n",
              "       0.94393423])"
            ]
          },
          "metadata": {},
          "execution_count": 21
        }
      ]
    },
    {
      "cell_type": "markdown",
      "metadata": {
        "id": "nCG4JCdQoEHw"
      },
      "source": [
        "Naturally this output array is much smaller than the original one as it only contains the values larger than 0."
      ]
    },
    {
      "cell_type": "markdown",
      "metadata": {
        "id": "BqxVdXevoLox"
      },
      "source": [
        "## Exercise\n",
        "\n",
        "1. Create a numpy array with values from 0 to 10 in steps of 0.5\n",
        "2. Extract the the last three elements of the array using slicing.\n",
        "3. Apply a cosine function to the full array created in (1.) and store the output in a new array.\n",
        "4. Create a boolean array telling which values in the array from (3.) are smaller than 0.\n",
        "5. Recover only those values in a new array via indexing."
      ]
    },
    {
      "cell_type": "code",
      "execution_count": 1,
      "metadata": {
        "id": "4NkEfp57mw8R",
        "colab": {
          "base_uri": "https://localhost:8080/"
        },
        "outputId": "67b10103-506b-4d81-fdf3-c1abd3110b6c"
      },
      "outputs": [
        {
          "output_type": "stream",
          "name": "stdout",
          "text": [
            "[0.  0.5 1.  1.5 2.  2.5 3.  3.5 4.  4.5 5.  5.5 6.  6.5 7.  7.5 8.  8.5\n",
            " 9.  9.5]\n",
            "[8.5 9.  9.5]\n",
            "[ 1.          0.87758256  0.54030231  0.0707372  -0.41614684 -0.80114362\n",
            " -0.9899925  -0.93645669 -0.65364362 -0.2107958   0.28366219  0.70866977\n",
            "  0.96017029  0.97658763  0.75390225  0.34663532 -0.14550003 -0.6020119\n",
            " -0.91113026 -0.99717216]\n",
            "[False False False False  True  True  True  True  True  True False False\n",
            " False False False False  True  True  True  True]\n"
          ]
        }
      ],
      "source": [
        "import numpy as np\n",
        "array = np.arange(0, 10, 0.5)\n",
        "print(array)\n",
        "\n",
        "ext_array = array[17:]\n",
        "print(ext_array)\n",
        "\n",
        "cos_array = np.cos(array)\n",
        "print(cos_array)\n",
        "\n",
        "boolean_array = cos_array < 0\n",
        "print(boolean_array)"
      ]
    },
    {
      "cell_type": "code",
      "source": [
        "cos_array[boolean_array]"
      ],
      "metadata": {
        "colab": {
          "base_uri": "https://localhost:8080/"
        },
        "id": "Gc5U9_m14FTp",
        "outputId": "576f5fb8-8e8c-4822-e88b-34da84e50373"
      },
      "execution_count": 3,
      "outputs": [
        {
          "output_type": "execute_result",
          "data": {
            "text/plain": [
              "array([-0.41614684, -0.80114362, -0.9899925 , -0.93645669, -0.65364362,\n",
              "       -0.2107958 , -0.14550003, -0.6020119 , -0.91113026, -0.99717216])"
            ]
          },
          "metadata": {},
          "execution_count": 3
        }
      ]
    },
    {
      "cell_type": "code",
      "source": [
        ""
      ],
      "metadata": {
        "id": "6O1aW7jmmRIx"
      },
      "execution_count": null,
      "outputs": []
    }
  ],
  "metadata": {
    "colab": {
      "collapsed_sections": [],
      "name": "06-Numpy_indexing.ipynb",
      "provenance": [],
      "toc_visible": true,
      "include_colab_link": true
    },
    "kernelspec": {
      "display_name": "Python 3 (ipykernel)",
      "language": "python",
      "name": "python3"
    },
    "language_info": {
      "codemirror_mode": {
        "name": "ipython",
        "version": 3
      },
      "file_extension": ".py",
      "mimetype": "text/x-python",
      "name": "python",
      "nbconvert_exporter": "python",
      "pygments_lexer": "ipython3",
      "version": "3.9.10"
    }
  },
  "nbformat": 4,
  "nbformat_minor": 0
}